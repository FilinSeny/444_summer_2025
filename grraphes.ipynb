{
 "cells": [
  {
   "cell_type": "code",
   "execution_count": null,
   "metadata": {},
   "outputs": [],
   "source": [
    "G = list....\n",
    "queue = \n",
    "dist = list[+inf]\n",
    "\n",
    "\n",
    "def bfs(cur):\n",
    "    dist[cur] = 0\n",
    "    queue.append(cur)\n",
    "\n",
    "    while (!queue.empty()):\n",
    "        cur  = queue[0]\n",
    "        queue.pop()\n",
    "        for (next : G[cur]) :\n",
    "            if (dist[next] != +inf):\n",
    "                dist[next] = dist[cur] + 1\n",
    "            queue.append(cur)    \n",
    "    \n",
    "    \n",
    "\n"
   ]
  },
  {
   "cell_type": "markdown",
   "metadata": {},
   "source": [
    "n - вершин m ребер"
   ]
  },
  {
   "cell_type": "markdown",
   "metadata": {},
   "source": [
    "1  Список  ребер \n",
    "+ \n",
    "минимальнй по размеру\n",
    "-\n",
    "сложен в обработке внутри алгоритмов"
   ]
  },
  {
   "cell_type": "code",
   "execution_count": null,
   "metadata": {},
   "outputs": [],
   "source": [
    "3 3\n",
    "\n",
    "\n",
    "\n",
    "1 2\n",
    "2 3 \n",
    "3 1"
   ]
  },
  {
   "cell_type": "markdown",
   "metadata": {},
   "source": [
    "список  смежности\n",
    "+\n",
    "не хранится избыточной информации\n",
    "-\n",
    "проверка на наличие ребра за O(n)"
   ]
  },
  {
   "cell_type": "code",
   "execution_count": null,
   "metadata": {},
   "outputs": [],
   "source": [
    "3 3\n",
    "\n",
    "\n",
    "vertex    to vertex\n",
    "\n",
    "1         2, 3\n",
    "2         1\n",
    "3         1"
   ]
  },
  {
   "cell_type": "code",
   "execution_count": null,
   "metadata": {},
   "outputs": [],
   "source": [
    "матрица смежности\n",
    "- \n",
    "размер всегда  n**2\n",
    "+\n",
    "быстрая проверка на наличие ребер"
   ]
  },
  {
   "cell_type": "code",
   "execution_count": null,
   "metadata": {},
   "outputs": [],
   "source": [
    "3 3\n",
    "    1   2   3\n",
    "1   0   1   0   \n",
    "2   1   0   1\n",
    "3   0   1   0 "
   ]
  },
  {
   "cell_type": "markdown",
   "metadata": {},
   "source": [
    "структурно "
   ]
  },
  {
   "cell_type": "code",
   "execution_count": null,
   "metadata": {},
   "outputs": [],
   "source": [
    "struct node {\n",
    "    vector<node *>  edges = vector<node *> (n, nullptr);\n",
    "}"
   ]
  },
  {
   "cell_type": "code",
   "execution_count": null,
   "metadata": {},
   "outputs": [],
   "source": [
    "хранение дерева \n",
    "-\n",
    "количество \"сыновей\" у вершины должно быть мало "
   ]
  },
  {
   "cell_type": "code",
   "execution_count": null,
   "metadata": {},
   "outputs": [],
   "source": [
    "const n_of_sons = 2\n",
    "tree = [0* n_of_sons**([(log(n_of_sons, n))] + 1)]\n",
    "\n",
    "tree[i]\n",
    "#1 son\n",
    "tree[n_of_sons * i + 1]\n",
    "#2 son\n",
    "tree[n_of_sons * i + 2]\n",
    "#3 son\n",
    "tree[n_of_sons * i + 3]\n",
    "....\n",
    "\n",
    "a[0] -> 1\n",
    "a[1] -> 2\n",
    "a[2] -> 3\n",
    "\n",
    "1 - n\n",
    "n - n*2\n",
    "n*2 - n*3"
   ]
  },
  {
   "cell_type": "code",
   "execution_count": null,
   "metadata": {},
   "outputs": [],
   "source": []
  },
  {
   "cell_type": "markdown",
   "metadata": {},
   "source": [
    "                0\n",
    "            1      2\n",
    "         4      3\n",
    "    5"
   ]
  },
  {
   "cell_type": "code",
   "execution_count": null,
   "metadata": {},
   "outputs": [],
   "source": [
    "Дейкстра - алгоритм построения кратайших путей от 1й до всех во взвешеном графе без ребер отрицательного веса"
   ]
  },
  {
   "cell_type": "code",
   "execution_count": 1,
   "metadata": {},
   "outputs": [
    {
     "ename": "SyntaxError",
     "evalue": "invalid syntax (2285692704.py, line 1)",
     "output_type": "error",
     "traceback": [
      "  \u001b[36mCell\u001b[39m\u001b[36m \u001b[39m\u001b[32mIn[1]\u001b[39m\u001b[32m, line 1\u001b[39m\n\u001b[31m    \u001b[39m\u001b[31mstruct edge{\u001b[39m\n           ^\n\u001b[31mSyntaxError\u001b[39m\u001b[31m:\u001b[39m invalid syntax\n"
     ]
    },
    {
     "ename": "",
     "evalue": "",
     "output_type": "error",
     "traceback": [
      "\u001b[1;31mThe Kernel crashed while executing code in the current cell or a previous cell. \n",
      "\u001b[1;31mPlease review the code in the cell(s) to identify a possible cause of the failure. \n",
      "\u001b[1;31mClick <a href='https://aka.ms/vscodeJupyterKernelCrash'>here</a> for more info. \n",
      "\u001b[1;31mView Jupyter <a href='command:jupyter.viewOutput'>log</a> for further details."
     ]
    }
   ],
   "source": [
    "struct edge{\n",
    "    int weight, next;\n",
    "}\n",
    "\n",
    "vetor<vector<edge>> G;\n",
    "\n",
    "def dijkstra(G, cur, dist):\n",
    "    set<edges> s = {{0, cur}}\n",
    "    dist[cur] = 0\n",
    "    while(!s.empty()):\n",
    "          cur_dist, cur = set[0]\n",
    "          set.erase({cur_dist, cur});\n",
    "          for ({w_next, next} : G[cur]):\n",
    "            if (cur_dist + w_next < dist[next]):\n",
    "                set.erase({dist[next], next})\n",
    "                dist[next] = cur_dist + w_next\n",
    "                set.insert({dist[next], next})"
   ]
  },
  {
   "cell_type": "code",
   "execution_count": null,
   "metadata": {},
   "outputs": [],
   "source": []
  }
 ],
 "metadata": {
  "kernelspec": {
   "display_name": "Python 3",
   "language": "python",
   "name": "python3"
  },
  "language_info": {
   "codemirror_mode": {
    "name": "ipython",
    "version": 3
   },
   "file_extension": ".py",
   "mimetype": "text/x-python",
   "name": "python",
   "nbconvert_exporter": "python",
   "pygments_lexer": "ipython3",
   "version": "3.13.7"
  }
 },
 "nbformat": 4,
 "nbformat_minor": 2
}
