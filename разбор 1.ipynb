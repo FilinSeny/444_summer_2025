{
 "cells": [
  {
   "cell_type": "code",
   "execution_count": 26,
   "metadata": {},
   "outputs": [],
   "source": [
    "def martrix_prod(A, B):\n",
    "    \n",
    "    n = len(A)\n",
    "    k = len(A[0])\n",
    "    m = len(B[0])\n",
    "    res = [[0 for j in range(m)] for  i in range(n)]\n",
    "    for i in range(n):\n",
    "        for  j in range(m):\n",
    "            for s  in range(k):\n",
    "                res[i][j] += A[i][s] * B[s][j] \n",
    "        res[i][j] \n",
    "    \n",
    "    return res"
   ]
  },
  {
   "cell_type": "markdown",
   "metadata": {},
   "source": [
    "A = [[0, 1], [1, 1]]\n",
    "B = [[2, 0], [0, 1]]"
   ]
  },
  {
   "cell_type": "markdown",
   "metadata": {},
   "source": [
    "A = 0 1       2 0 \n",
    "    1 1   B = 0 2"
   ]
  },
  {
   "cell_type": "code",
   "execution_count": 27,
   "metadata": {},
   "outputs": [
    {
     "data": {
      "text/plain": [
       "[[0, 1], [1, 1]]"
      ]
     },
     "execution_count": 27,
     "metadata": {},
     "output_type": "execute_result"
    }
   ],
   "source": [
    "A = [[0, 1], [1, 1]]\n",
    "B = [[1, 0], [0, 1]]\n",
    "\n",
    "res = martrix_prod(A, B)\n",
    "res"
   ]
  },
  {
   "cell_type": "code",
   "execution_count": 7,
   "metadata": {},
   "outputs": [
    {
     "data": {
      "text/plain": [
       "[[1, 1], [1, 2]]"
      ]
     },
     "execution_count": 7,
     "metadata": {},
     "output_type": "execute_result"
    }
   ],
   "source": [
    "res = martrix_prod(A, A)\n",
    "res"
   ]
  },
  {
   "cell_type": "code",
   "execution_count": 31,
   "metadata": {},
   "outputs": [
    {
     "data": {
      "text/plain": [
       "[[1, 0], [0, 1]]"
      ]
     },
     "execution_count": 31,
     "metadata": {},
     "output_type": "execute_result"
    }
   ],
   "source": [
    "res  = B\n",
    "res"
   ]
  },
  {
   "cell_type": "code",
   "execution_count": 32,
   "metadata": {},
   "outputs": [
    {
     "name": "stdout",
     "output_type": "stream",
     "text": [
      "7\n",
      "[[0, 1], [1, 1]]\n",
      "3\n",
      "3\n",
      "[[1, 2], [2, 3]]\n",
      "1\n",
      "1\n",
      "[[8, 13], [13, 21]]\n",
      "0\n"
     ]
    },
    {
     "data": {
      "text/plain": [
       "[[8, 13], [13, 21]]"
      ]
     },
     "execution_count": 32,
     "metadata": {},
     "output_type": "execute_result"
    }
   ],
   "source": [
    "n = 7\n",
    "res = B\n",
    "while n > 0:\n",
    "    print(n)\n",
    "    if (n % 2):\n",
    "        res = martrix_prod(res,  A)\n",
    "        print(res)\n",
    "    A = martrix_prod(A, A)\n",
    "    n //= 2\n",
    "    print(n)\n",
    "\n",
    "res"
   ]
  },
  {
   "cell_type": "code",
   "execution_count": 39,
   "metadata": {},
   "outputs": [
    {
     "data": {
      "text/plain": [
       "[[21], [34]]"
      ]
     },
     "execution_count": 39,
     "metadata": {},
     "output_type": "execute_result"
    }
   ],
   "source": [
    "fib = [[0], [1]]\n",
    "\n",
    "fib = martrix_prod(A, fib)\n",
    "\n",
    "fib"
   ]
  },
  {
   "cell_type": "code",
   "execution_count": 42,
   "metadata": {},
   "outputs": [
    {
     "name": "stdout",
     "output_type": "stream",
     "text": [
      "1\n",
      "1\n",
      "2\n",
      "3\n",
      "5\n",
      "8\n",
      "13\n",
      "21\n"
     ]
    },
    {
     "data": {
      "text/plain": [
       "21"
      ]
     },
     "execution_count": 42,
     "metadata": {},
     "output_type": "execute_result"
    }
   ],
   "source": [
    "X = 0\n",
    "Y = 1\n",
    "for i in range(8):\n",
    "    tmp = Y\n",
    "    Y = X +  Y\n",
    "    X = tmp\n",
    "    print(X)\n",
    "\n",
    "X"
   ]
  },
  {
   "cell_type": "markdown",
   "metadata": {},
   "source": [
    "Задача 2\n",
    "\n",
    "------        -----\n",
    "1 2 3 14\n",
    "6\n",
    "\n",
    "\n",
    "\n"
   ]
  },
  {
   "cell_type": "code",
   "execution_count": 49,
   "metadata": {},
   "outputs": [
    {
     "name": "stdout",
     "output_type": "stream",
     "text": [
      "[7, 14, 43]\n"
     ]
    }
   ],
   "source": [
    "n = 4\n",
    "m = 3\n",
    "a = [1, 2, 3, 15]\n",
    "\n",
    "S = 1 # [ ) \n",
    "a = sorted(a)\n",
    "n_bought  = 0\n",
    "res = []\n",
    "i = 0\n",
    "while(n_bought < m):\n",
    "    if (i < n and a[i] <= S):\n",
    "        S += a[i]\n",
    "        i += 1\n",
    "    else:\n",
    "        res.append(S)\n",
    "        n_bought += 1\n",
    "        S += S\n",
    "\n",
    "print(res)\n"
   ]
  },
  {
   "cell_type": "markdown",
   "metadata": {},
   "source": [
    "0  1  2  3 4    5  6 7\n",
    "   |     | |    |  |   \n",
    "----------------------\n",
    "      |    |    |    "
   ]
  },
  {
   "cell_type": "markdown",
   "metadata": {},
   "source": [
    "0 1 1 2 3 4 5 5 0 0\n",
    "1 1 2 2 3 4 4 4 0 0\n",
    "0 1 2 3 4 5 6 7  "
   ]
  },
  {
   "cell_type": "markdown",
   "metadata": {},
   "source": [
    "DP[1|0][i] - мин кол-во переправ чтоостаться за iм притоком\n",
    "двумерное дп\n",
    "\n",
    "1 B приток - +1 к ответу\n",
    "2 L приток dp[0][i] = min(dp[1][i - 1] + 1, dp[0][i - 1] + 1)\n",
    "           dp[1][i] = min(dp[1][i- 1], dp[0][i - 1] + 1)\n",
    "3 R приток аналогично         \n"
   ]
  }
 ],
 "metadata": {
  "kernelspec": {
   "display_name": "Python 3",
   "language": "python",
   "name": "python3"
  },
  "language_info": {
   "codemirror_mode": {
    "name": "ipython",
    "version": 3
   },
   "file_extension": ".py",
   "mimetype": "text/x-python",
   "name": "python",
   "nbconvert_exporter": "python",
   "pygments_lexer": "ipython3",
   "version": "3.13.7"
  }
 },
 "nbformat": 4,
 "nbformat_minor": 2
}
